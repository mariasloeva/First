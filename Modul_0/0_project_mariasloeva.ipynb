{
 "cells": [
  {
   "cell_type": "code",
   "execution_count": 2,
   "metadata": {},
   "outputs": [
    {
     "name": "stdout",
     "output_type": "stream",
     "text": [
      "Загадано число от 1 до 100\n",
      "Вы угадали число 62 за 7 попыток\n",
      "Ваш алгоритм угадывает число в среднем за 6 попыток\n"
     ]
    },
    {
     "data": {
      "text/plain": [
       "6"
      ]
     },
     "execution_count": 2,
     "metadata": {},
     "output_type": "execute_result"
    }
   ],
   "source": [
    "# Searching the random number with minimum iteration\n",
    "\n",
    "import numpy as np\n",
    "count = 0\n",
    "number = np.random.randint(1,101)      # Guessing the number \n",
    "print (\"Загадано число от 1 до 100\")  \n",
    " \n",
    "\n",
    "def game_core(number):                 # Function for searching the random number\n",
    "    count = 1\n",
    "    left = 1\n",
    "    right = 100\n",
    "    predict = np.random.randint(1,101)\n",
    "    \n",
    "    while predict != number:\n",
    "        count+=1\n",
    "\n",
    "        if number > predict: \n",
    "            left=predict+1\n",
    "            \n",
    "        else:\n",
    "            right=predict-1\n",
    "        predict=(left+right)//2\n",
    "            \n",
    "    return(count) \n",
    "\n",
    "print (f\"Вы угадали число {number} за {game_core(number)} попыток\")  \n",
    "        \n",
    "        \n",
    "def score_game(game_core):              # Function for counting the mean number of interactions\n",
    "    count_ls = []\n",
    "    np.random.seed(1)  \n",
    "    random_array = np.random.randint(1,101, size=(1000))\n",
    "    \n",
    "    for number in random_array:\n",
    "        count_ls.append(game_core(number))\n",
    "    score = int(np.mean(count_ls))\n",
    "    print(f\"Ваш алгоритм угадывает число в среднем за {score} попыток\")\n",
    "    return(score)\n",
    "score_game(game_core)"
   ]
  },
  {
   "cell_type": "code",
   "execution_count": null,
   "metadata": {},
   "outputs": [],
   "source": []
  }
 ],
 "metadata": {
  "kernelspec": {
   "display_name": "Python 3",
   "language": "python",
   "name": "python3"
  },
  "language_info": {
   "codemirror_mode": {
    "name": "ipython",
    "version": 3
   },
   "file_extension": ".py",
   "mimetype": "text/x-python",
   "name": "python",
   "nbconvert_exporter": "python",
   "pygments_lexer": "ipython3",
   "version": "3.8.5"
  }
 },
 "nbformat": 4,
 "nbformat_minor": 4
}
